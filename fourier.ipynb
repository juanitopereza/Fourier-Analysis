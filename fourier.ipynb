{
 "cells": [
  {
   "cell_type": "code",
   "execution_count": 1,
   "metadata": {
    "collapsed": true
   },
   "outputs": [],
   "source": [
    "from scipy.io.wavfile import *\n",
    "import numpy as np\n",
    "import matplotlib.pyplot as plt\n",
    "import matplotlib.gridspec as gridspec"
   ]
  },
  {
   "cell_type": "code",
   "execution_count": 2,
   "metadata": {
    "collapsed": true
   },
   "outputs": [],
   "source": [
    "def FFT(x):\n",
    "    N = len(x)\n",
    "    N_min = min(N, 32)\n",
    "    \n",
    "    n = np.arange(N_min)\n",
    "    k = n[:, None]\n",
    "    M = np.exp(-2j * np.pi * n * k / N_min)\n",
    "    X = np.dot(M, x.reshape((N_min, -1)))\n",
    "    \n",
    "    while X.shape[0] < N:\n",
    "        X_even = X[:, :X.shape[1] / 2]\n",
    "        \n",
    "        X_odd = X[:, X.shape[1] / 2:]\n",
    "        \n",
    "        factor = np.exp(-1j * np.pi * np.arange(X.shape[0])\n",
    "                        / X.shape[0])[:, None]\n",
    "        X = np.vstack([X_even + factor * X_odd,\n",
    "                       X_even - factor * X_odd])\n",
    "\n",
    "    return X.ravel()"
   ]
  },
  {
   "cell_type": "code",
   "execution_count": 3,
   "metadata": {
    "collapsed": true
   },
   "outputs": [],
   "source": [
    "def IFFT(x):\n",
    "    N = len(x)\n",
    "    N_min = min(N, 32)\n",
    "    \n",
    "    n = np.arange(N_min)\n",
    "    k = n[:, None]\n",
    "    M = np.exp(2j * np.pi * n * k / N_min)\n",
    "    X = (1./N)*np.dot(M, x.reshape((N_min, -1)))\n",
    "    \n",
    "    while X.shape[0] < N:\n",
    "        X_even = X[:, :X.shape[1] / 2]\n",
    "        \n",
    "        X_odd = X[:, X.shape[1] / 2:]\n",
    "    \n",
    "        factor = np.exp(1j * np.pi * np.arange(X.shape[0])\n",
    "                        / X.shape[0])[:, None]\n",
    "        X = np.vstack([X_even + factor * X_odd,\n",
    "                       X_even - factor * X_odd])\n",
    "\n",
    "    return X.ravel()"
   ]
  },
  {
   "cell_type": "code",
   "execution_count": 4,
   "metadata": {
    "collapsed": true
   },
   "outputs": [],
   "source": [
    "def MataMayor(x):\n",
    "    y = np.copy(x)\n",
    "    y[np.where(abs(x) == max(abs(x)))] = 0+0j    \n",
    "    return y"
   ]
  },
  {
   "cell_type": "code",
   "execution_count": 5,
   "metadata": {
    "collapsed": true
   },
   "outputs": [],
   "source": [
    "def PasaBajas(x, freqs, cutoff):\n",
    "    y = np.copy(x)\n",
    "    y[np.where(freqs > cutoff)] = 0+0j    \n",
    "    return y    "
   ]
  },
  {
   "cell_type": "code",
   "execution_count": 6,
   "metadata": {},
   "outputs": [],
   "source": [
    "DatosDo = read('Do.wav')[1]\n",
    "f_Do = float(read('Do.wav')[0])\n",
    "N_Do = len(DatosDo)\n",
    "Do = np.append(DatosDo,np.zeros(2**16 - N_Do))\n",
    "dt_Do = 1.0/f_Do\n",
    "\n",
    "DatosSol = read('Sol.wav')[1]\n",
    "f_Sol = float(read('Sol.wav')[0])\n",
    "N_Sol = len(DatosSol)\n",
    "Sol = np.append(DatosSol,np.zeros(2**16 - N_Sol))\n",
    "dt_Sol = 1.0/f_Sol"
   ]
  },
  {
   "cell_type": "code",
   "execution_count": 7,
   "metadata": {},
   "outputs": [],
   "source": [
    "fou = FFT(Do)\n",
    "freqs = np.arange(0,len(Do))*f_Do/len(Do)\n",
    "\n",
    "filtered_1 = MataMayor(fou)\n",
    "filtered_2 = PasaBajas(fou, freqs, 1000)\n",
    "\n",
    "t = np.linspace(0,len(Do)/f_Do,len(Do))\n",
    "\n",
    "gs = gridspec.GridSpec(2, 2, width_ratios=[1, 1], height_ratios=[3, 2])\n",
    "\n",
    "plt.figure(figsize = (10,12))\n",
    "ax = plt.subplot(gs[0, :])\n",
    "plt.plot(freqs, abs(fou))\n",
    "plt.xlim(0,4e3)\n",
    "plt.ticklabel_format(style='sci', axis='y', scilimits=(0,0))\n",
    "plt.xlabel('$f\\ [Hz]$')\n",
    "plt.title(u'$Frecuencias\\ Señal\\ Original\\ Do$', fontsize=20)\n",
    "\n",
    "ax = plt.subplot(gs[1, 0])\n",
    "plt.plot(freqs, abs(filtered_1))\n",
    "plt.xlim(0,4e3)\n",
    "plt.ticklabel_format(style='sci', axis='y', scilimits=(0,0))\n",
    "plt.xlabel('$f\\ [Hz]$')\n",
    "plt.title('$Filtro\\ Mayor\\ Frecuencia$')\n",
    "\n",
    "ax = plt.subplot(gs[1, 1])\n",
    "plt.plot(freqs, abs(filtered_2))\n",
    "plt.xlim(0,4e3)\n",
    "plt.ticklabel_format(style='sci', axis='y', scilimits=(0,0))\n",
    "plt.xlabel('$f\\ [Hz]$')\n",
    "plt.title('$Filtro\\ Pasa\\ Bajas$')\n",
    "\n",
    "\n",
    "plt.savefig('DoFiltros.pdf')\n",
    "plt.close()"
   ]
  },
  {
   "cell_type": "code",
   "execution_count": 8,
   "metadata": {},
   "outputs": [],
   "source": [
    "f_DoSol = 3.*f_Do/2.\n",
    "freqs_DoSol = np.arange(0,len(Do))*f_DoSol/len(Do)\n",
    "\n",
    "fou_sol = FFT(Sol)\n",
    "freqs_sol = np.arange(0,len(Sol))*f_Sol/len(Sol)\n",
    "\n",
    "plt.plot(freqs_sol,abs(fou_sol),'r', label = '$Sol$')\n",
    "plt.plot(freqs_DoSol,abs(fou),'b', label = '$Do \\mapsto Sol$')\n",
    "plt.legend()\n",
    "plt.xlim(0,4e3)\n",
    "plt.ticklabel_format(style='sci', axis='y', scilimits=(0,0))\n",
    "plt.xlabel('$f\\ [Hz]$')\n",
    "plt.title('$Do \\mapsto Sol\\ vs.\\ Sol$')\n",
    "\n",
    "plt.savefig('DoSol.pdf')\n",
    "plt.close()"
   ]
  },
  {
   "cell_type": "code",
   "execution_count": 9,
   "metadata": {},
   "outputs": [],
   "source": [
    "write('Do_pico.wav',f_Do,np.real(IFFT(filtered_1))[:N_Do].astype(np.int16))\n",
    "write('Do_pasabajos.wav',f_Do,np.real(IFFT(filtered_2))[:N_Do].astype(np.int16))\n",
    "write('DoSol.wav',f_DoSol,np.real(IFFT(fou))[:N_Sol].astype(np.int16))"
   ]
  }
 ],
 "metadata": {
  "kernelspec": {
   "display_name": "Python 2",
   "language": "python",
   "name": "python2"
  },
  "language_info": {
   "codemirror_mode": {
    "name": "ipython",
    "version": 2
   },
   "file_extension": ".py",
   "mimetype": "text/x-python",
   "name": "python",
   "nbconvert_exporter": "python",
   "pygments_lexer": "ipython2",
   "version": "2.7.13"
  }
 },
 "nbformat": 4,
 "nbformat_minor": 2
}
